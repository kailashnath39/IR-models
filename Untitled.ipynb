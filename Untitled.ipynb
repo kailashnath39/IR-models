{
 "cells": [
  {
   "cell_type": "code",
   "execution_count": 2,
   "id": "23e3378e",
   "metadata": {},
   "outputs": [
    {
     "name": "stdout",
     "output_type": "stream",
     "text": [
      "Enter documents names:doc1.txt doc2.txt doc3.txt doc4.txt\n",
      "['approach', 'breakthrough', 'drug', 'for', 'hopes', 'new', 'of', 'patients', 'schizophrenia', 'treatment']\n",
      "[['breakthrough', 'drug', 'for', 'schizophrenia'], ['new', 'schizophrenia', 'drug'], ['new', 'approach', 'for', 'treatment', 'of', 'schizophrenia'], ['new', 'hopes', 'for', 'schizophrenia', 'patients']]\n",
      "{'approach': {'doc3.txt'}, 'breakthrough': {'doc1.txt'}, 'drug': {'doc1.txt', 'doc2.txt'}, 'for': {'doc1.txt', 'doc3.txt', 'doc4.txt'}, 'hopes': {'doc4.txt'}, 'new': {'doc3.txt', 'doc2.txt', 'doc4.txt'}, 'of': {'doc3.txt'}, 'patients': {'doc4.txt'}, 'schizophrenia': {'doc1.txt', 'doc3.txt', 'doc2.txt', 'doc4.txt'}, 'treatment': {'doc3.txt'}}\n",
      "{'doc1.txt'}\n"
     ]
    }
   ],
   "source": [
    "import numpy as np\n",
    "s=list(map(str,input(\"Enter documents names:\").split()))\n",
    "\n",
    "x=[]\n",
    "sep=[]\n",
    "for i in s:\n",
    "    f=(open(i,'r').read().lower()).split()\n",
    "    x+=f\n",
    "    sep.append(f)\n",
    "x = sorted(set(x))\n",
    "\n",
    "d={}\n",
    "for i in x:\n",
    "    l=[]\n",
    "    for j in range(len(s)):\n",
    "        if i in sep[j]:\n",
    "            l.append(s[j])\n",
    "        d[i]=set(l)\n",
    "\n",
    "\n"
   ]
  },
  {
   "cell_type": "code",
   "execution_count": null,
   "id": "35971cba",
   "metadata": {},
   "outputs": [],
   "source": []
  }
 ],
 "metadata": {
  "kernelspec": {
   "display_name": "Python 3 (ipykernel)",
   "language": "python",
   "name": "python3"
  },
  "language_info": {
   "codemirror_mode": {
    "name": "ipython",
    "version": 3
   },
   "file_extension": ".py",
   "mimetype": "text/x-python",
   "name": "python",
   "nbconvert_exporter": "python",
   "pygments_lexer": "ipython3",
   "version": "3.11.3"
  }
 },
 "nbformat": 4,
 "nbformat_minor": 5
}
