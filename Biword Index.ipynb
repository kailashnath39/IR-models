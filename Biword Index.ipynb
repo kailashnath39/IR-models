{
 "cells": [
  {
   "cell_type": "code",
   "execution_count": 45,
   "id": "367c858e",
   "metadata": {},
   "outputs": [],
   "source": [
    "import numpy as np\n",
    "import re"
   ]
  },
  {
   "cell_type": "code",
   "execution_count": 58,
   "id": "a63b909b",
   "metadata": {},
   "outputs": [],
   "source": [
    "def bqueryEval(query,d):\n",
    "    pf = query\n",
    "    stack = []\n",
    "    if len(pf) == 1:\n",
    "        if pf[0] in d.keys():\n",
    "            return d[pf[0]]\n",
    "        else:\n",
    "            return \"none\"\n",
    "    else:\n",
    "        for i in pf:\n",
    "            if i == 'AND':\n",
    "                    op1 = stack.pop()\n",
    "                    op2 = stack.pop()\n",
    "                    if isinstance(op1,str) and op1 in d.keys():\n",
    "                        op1 = d[op1]\n",
    "                    else:\n",
    "                        op1 = set()\n",
    "                    if isinstance(op2,str) and op2 in d.keys():\n",
    "                        op2 = d[op2]\n",
    "                    else:\n",
    "                        op2 = set()\n",
    "                    r = op1.intersection(op2)\n",
    "                    stack.append(r)\n",
    "            else:\n",
    "                stack.append(i)\n",
    "        return stack.pop()"
   ]
  },
  {
   "cell_type": "code",
   "execution_count": 59,
   "id": "cc226982",
   "metadata": {},
   "outputs": [
    {
     "name": "stdout",
     "output_type": "stream",
     "text": [
      "Enter the phrase : kk nn ll\n",
      "relevant document ids are :  {0, 3}\n"
     ]
    }
   ],
   "source": [
    "docs = []\n",
    "terms = set()\n",
    "# l = input(\"Enter the documents : \").split()\n",
    "l = [\"doc1.txt\",\"doc2.txt\",\"doc3.txt\",\"doc4.txt\"]\n",
    "\n",
    "for i in l:\n",
    "    file = open(i,'r').read().lower()\n",
    "    content = re.sub(\"[^a-z0-9]\",\" \",file).split()\n",
    "    biwords = [\" \".join(content[i:i+2]) for i in range(0,len(content)-1,1)]\n",
    "    terms.update(biwords)\n",
    "    docs.append(set(biwords))\n",
    "\n",
    "d = {}\n",
    "for i in terms:\n",
    "    post_list = []\n",
    "    for j in range(len(docs)):\n",
    "        if i in docs[j]:\n",
    "            post_list.append(j)\n",
    "    d[i] = set(post_list)\n",
    "\n",
    "query = input(\"Enter the phrase : \").split()\n",
    "query = [\" \".join(query[i:i+2]) for i in range(0,len(query)-1,1)]\n",
    "query+=['AND']*(len(query)-1)\n",
    "print(\"relevant document ids are : \",bqueryEval(query,d))"
   ]
  }
 ],
 "metadata": {
  "kernelspec": {
   "display_name": "Python 3 (ipykernel)",
   "language": "python",
   "name": "python3"
  },
  "language_info": {
   "codemirror_mode": {
    "name": "ipython",
    "version": 3
   },
   "file_extension": ".py",
   "mimetype": "text/x-python",
   "name": "python",
   "nbconvert_exporter": "python",
   "pygments_lexer": "ipython3",
   "version": "3.11.3"
  }
 },
 "nbformat": 4,
 "nbformat_minor": 5
}
