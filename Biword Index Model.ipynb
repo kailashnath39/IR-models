{
 "cells": [
  {
   "cell_type": "markdown",
   "id": "c6cd10e6",
   "metadata": {},
   "source": [
    "# Importing modules"
   ]
  },
  {
   "cell_type": "code",
   "execution_count": 1,
   "id": "367c858e",
   "metadata": {},
   "outputs": [],
   "source": [
    "import re"
   ]
  },
  {
   "cell_type": "markdown",
   "id": "0d308292",
   "metadata": {},
   "source": [
    "# Query evaluation"
   ]
  },
  {
   "cell_type": "code",
   "execution_count": 2,
   "id": "73502f42",
   "metadata": {},
   "outputs": [],
   "source": [
    "def getPostings(s,d):\n",
    "    if isinstance(s,str):\n",
    "        try:\n",
    "            return d[s]\n",
    "        except:\n",
    "            return set()\n",
    "    else:\n",
    "        return s"
   ]
  },
  {
   "cell_type": "code",
   "execution_count": 3,
   "id": "a63b909b",
   "metadata": {},
   "outputs": [],
   "source": [
    "def bqueryEval(phrase,d):\n",
    "    phrase = [\" \".join(phrase[i:i+2]) for i in range(0,len(phrase)-1,1)]\n",
    "    phrase += ['AND']*(len(phrase)-1)\n",
    "    pf = phrase\n",
    "    stack = []\n",
    "    if len(pf) == 1:\n",
    "        return getPostings(pf[0],d)\n",
    "    else:\n",
    "        for i in pf:\n",
    "            if i == 'AND':\n",
    "                    op1 = getPostings(stack.pop(),d)\n",
    "                    op2 = getPostings(stack.pop(),d)\n",
    "                    r = op1.intersection(op2)\n",
    "                    stack.append(r)\n",
    "            else:\n",
    "                stack.append(i)\n",
    "        return set() if len(stack) == 0 else stack.pop()"
   ]
  },
  {
   "cell_type": "markdown",
   "id": "3fa1ca12",
   "metadata": {},
   "source": [
    "# Index Construction"
   ]
  },
  {
   "cell_type": "code",
   "execution_count": 6,
   "id": "cc226982",
   "metadata": {},
   "outputs": [
    {
     "name": "stdout",
     "output_type": "stream",
     "text": [
      "Enter the documents : doc1.txt doc2.txt doc3.txt doc4.txt\n",
      "{'and paper': {1, 2}, 'create with': {4}, 'with a': {2}, 'pen and': {1, 2}, 'with the': {3}, 'sheet make': {1}, 'meet with': {2}, 'world to': {4}, 'paper and': {3}, 'and sheet': {1, 4}, 'shape with': {3}, 'out on': {3}, 'with ink': {4}, 'flow out': {3}, 'the pen': {3}, 'to tell': {4}, 'paper ink': {1}, 'and ideas': {3}, 'such beautiful': {1}, 'on the': {3}, 'make such': {1}, 'beautiful things': {1}, 'a story': {4}, 'story to': {4}, 'ideas take': {3}, 'take shape': {3}, 'a world': {4}, 'paper meet': {2}, 'a bond': {2}, 'so sweet': {2}, 'tell and': {4}, 'and a': {4}, 'words flow': {3}, 'to create': {4}, 'the paper': {3}, 'ink and': {1, 4}, 'bond so': {2}, 'together pen': {2}}\n"
     ]
    }
   ],
   "source": [
    "docs = []\n",
    "terms = set()\n",
    "l = input(\"Enter the documents : \").split()\n",
    "# l = [\"doc1.txt\",\"doc2.txt\",\"doc3.txt\",\"doc4.txt\"]\n",
    "\n",
    "for i in l:\n",
    "    file = open(i,'r').read().lower()\n",
    "    content = re.sub(\"[^a-z0-9]\",\" \",file).split()\n",
    "    biwords = [\" \".join(content[i:i+2]) for i in range(0,len(content)-1,1)]\n",
    "    terms.update(biwords)\n",
    "    docs.append(set(biwords))\n",
    "\n",
    "d = {}\n",
    "for i in terms:\n",
    "    post_list = []\n",
    "    for j in range(len(docs)):\n",
    "        if i in docs[j]:\n",
    "            post_list.append(j+1)\n",
    "    d[i] = set(post_list)\n",
    "\n",
    "print(d)"
   ]
  },
  {
   "cell_type": "markdown",
   "id": "657c9001",
   "metadata": {},
   "source": [
    "# query reading"
   ]
  },
  {
   "cell_type": "code",
   "execution_count": 9,
   "id": "c5de4f69",
   "metadata": {},
   "outputs": [
    {
     "name": "stdout",
     "output_type": "stream",
     "text": [
      "Enter the phrase : Words flow out on the paper\n",
      "relevant document ids are :  {3}\n"
     ]
    }
   ],
   "source": [
    "\n",
    "phrase = input(\"Enter the phrase : \").lower()\n",
    "r = bqueryEval(phrase.split(),d)\n",
    "if len(r) == 0:\n",
    "    print(\"no relevant documents\")\n",
    "else:\n",
    "    print(\"relevant document ids are : \",r)"
   ]
  },
  {
   "cell_type": "markdown",
   "id": "831299b2",
   "metadata": {},
   "source": [
    "# doc1.txt:\n",
    "Pen and paper Ink and sheet make such beautiful things.\n",
    "# doc2.txt:\n",
    "Together pen and paper meet with a bond so sweet.\n",
    "# doc3.txt:\n",
    "Words flow out on the paper and Ideas take shape with the pen.\n",
    "# doc4.txt:\n",
    "A story to tell and a world to create with Ink and sheet."
   ]
  }
 ],
 "metadata": {
  "kernelspec": {
   "display_name": "Python 3 (ipykernel)",
   "language": "python",
   "name": "python3"
  },
  "language_info": {
   "codemirror_mode": {
    "name": "ipython",
    "version": 3
   },
   "file_extension": ".py",
   "mimetype": "text/x-python",
   "name": "python",
   "nbconvert_exporter": "python",
   "pygments_lexer": "ipython3",
   "version": "3.11.4"
  }
 },
 "nbformat": 4,
 "nbformat_minor": 5
}
